{
 "cells": [
  {
   "cell_type": "code",
   "execution_count": null,
   "metadata": {},
   "outputs": [],
   "source": []
  },
  {
   "cell_type": "code",
   "execution_count": 11,
   "metadata": {},
   "outputs": [],
   "source": [
    "import pandas as pd\n",
    "import numpy as np\n",
    "import matplotlib.pyplot as plt\n",
    "import seaborn as sns\n",
    "from sklearn.model_selection import train_test_split, cross_val_score\n",
    "from sklearn.preprocessing import OneHotEncoder, StandardScaler\n",
    "from sklearn.linear_model import LinearRegression, Ridge, Lasso\n",
    "from sklearn.tree import DecisionTreeRegressor\n",
    "from sklearn.ensemble import RandomForestRegressor\n",
    "from sklearn.svm import SVR\n",
    "from sklearn.neighbors import KNeighborsRegressor\n",
    "from sklearn.metrics import mean_absolute_error, mean_squared_error, r2_score\n"
   ]
  },
  {
   "cell_type": "code",
   "execution_count": 12,
   "metadata": {},
   "outputs": [
    {
     "name": "stdout",
     "output_type": "stream",
     "text": [
      "Dataset Preview:\n",
      "    total_bill   tip     sex smoker  day    time  size\n",
      "0       16.99  1.01  Female     No  Sun  Dinner     2\n",
      "1       10.34  1.66    Male     No  Sun  Dinner     3\n",
      "2       21.01  3.50    Male     No  Sun  Dinner     3\n",
      "3       23.68  3.31    Male     No  Sun  Dinner     2\n",
      "4       24.59  3.61  Female     No  Sun  Dinner     4\n",
      "\n",
      "Missing Values:\n",
      " total_bill    0\n",
      "tip           0\n",
      "sex           0\n",
      "smoker        0\n",
      "day           0\n",
      "time          0\n",
      "size          0\n",
      "dtype: int64\n"
     ]
    }
   ],
   "source": [
    "\n",
    "file_path = \"tips (data for regression problem).csv\"\n",
    "df = pd.read_csv(file_path)\n",
    "\n",
    "print(\"Dataset Preview:\\n\", df.head())\n",
    "\n",
    "print(\"\\nMissing Values:\\n\", df.isnull().sum())\n"
   ]
  },
  {
   "cell_type": "code",
   "execution_count": 13,
   "metadata": {},
   "outputs": [],
   "source": [
    "\n",
    "\n",
    "encoder = OneHotEncoder(drop='first', sparse_output=False)\n",
    "categorical_features = ['sex', 'smoker', 'day', 'time']\n",
    "\n",
    "encoded_features = encoder.fit_transform(df[categorical_features])\n",
    "\n",
    "encoded_column_names = encoder.get_feature_names_out(categorical_features)\n",
    "encoded_df = pd.DataFrame(encoded_features, columns=encoded_column_names)\n",
    "\n",
    "df = pd.concat([df.drop(columns=categorical_features), encoded_df], axis=1)\n",
    "\n",
    "scaler = StandardScaler()\n",
    "numerical_features = ['total_bill', 'size']\n",
    "scaled_features = scaler.fit_transform(df[numerical_features])\n",
    "scaled_df = pd.DataFrame(scaled_features, columns=numerical_features)\n",
    "df = pd.concat([df.drop(columns=numerical_features), scaled_df], axis=1)\n",
    "\n",
    "X = df.drop(columns=['tip'])\n",
    "y = df['tip']\n",
    "\n",
    "X_train, X_test, y_train, y_test = train_test_split(X, y, test_size=0.2, random_state=42)\n"
   ]
  },
  {
   "cell_type": "code",
   "execution_count": 14,
   "metadata": {},
   "outputs": [],
   "source": [
    "\n",
    "models = {\n",
    "    'Linear Regression': LinearRegression(),\n",
    "    'Ridge Regression': Ridge(alpha=1.0),\n",
    "    'Lasso Regression': Lasso(alpha=0.1),\n",
    "    'Decision Tree': DecisionTreeRegressor(max_depth=5),\n",
    "    'Random Forest': RandomForestRegressor(n_estimators=100, random_state=42),\n",
    "    'SVR': SVR(kernel='rbf', C=100, gamma=0.1),\n",
    "    'KNN': KNeighborsRegressor(n_neighbors=5)\n",
    "}\n"
   ]
  },
  {
   "cell_type": "code",
   "execution_count": 15,
   "metadata": {},
   "outputs": [
    {
     "name": "stdout",
     "output_type": "stream",
     "text": [
      "\n",
      "Model Performance:\n",
      "                Model       MAE       MSE      RMSE        R2\n",
      "0  Linear Regression  0.667133  0.703357  0.838664  0.437302\n",
      "1   Ridge Regression  0.666862  0.700632  0.837038  0.439481\n",
      "2   Lasso Regression  0.654883  0.612105  0.782371  0.510305\n",
      "3      Decision Tree  0.690545  0.848990  0.921407  0.320792\n",
      "4      Random Forest  0.754120  0.930777  0.964768  0.255361\n",
      "5                SVR  0.737179  0.965186  0.982439  0.227834\n",
      "6                KNN  0.719959  0.837683  0.915250  0.329838\n"
     ]
    }
   ],
   "source": [
    "\n",
    "results = []\n",
    "for name, model in models.items():\n",
    "    model.fit(X_train, y_train)\n",
    "    y_pred = model.predict(X_test)\n",
    "    mae = mean_absolute_error(y_test, y_pred)\n",
    "    mse = mean_squared_error(y_test, y_pred)\n",
    "    rmse = np.sqrt(mse)\n",
    "    r2 = r2_score(y_test, y_pred)\n",
    "    r\n",
    "results_df = pd.DataFrame(results, columns=['Model', 'MAE', 'MSE', 'RMSE', 'R2'])\n",
    "print(\"\\nModel Performance:\\n\", results_df)\n"
   ]
  },
  {
   "cell_type": "code",
   "execution_count": 16,
   "metadata": {},
   "outputs": [
    {
     "name": "stdout",
     "output_type": "stream",
     "text": [
      "\n",
      "Feature Importances (from Random Forest):\n",
      "       Feature  Importance\n",
      "6  total_bill    0.767147\n",
      "1  smoker_Yes    0.069031\n",
      "7        size    0.058963\n",
      "2     day_Sat    0.030186\n",
      "3     day_Sun    0.025849\n",
      "0    sex_Male    0.024554\n",
      "4    day_Thur    0.012284\n",
      "5  time_Lunch    0.011987\n"
     ]
    }
   ],
   "source": [
    "\n",
    "best_model = RandomForestRegressor(n_estimators=100, random_state=42)\n",
    "best_model.fit(X_train, y_train)\n",
    "feature_importances = pd.DataFrame({\n",
    "    'Feature': X.columns,\n",
    "    'Importance': best_model.feature_importances_\n",
    "}).sort_values(by='Importance', ascending=False)\n",
    "\n",
    "print(\"\\nFeature Importances (from Random Forest):\\n\", feature_importances)\n"
   ]
  },
  {
   "cell_type": "code",
   "execution_count": 20,
   "metadata": {},
   "outputs": [
    {
     "data": {
      "image/png": "[encoded data removed]",
      "text/plain": [
       "<Figure size 1000x600 with 1 Axes>"
      ]
     },
     "metadata": {},
     "output_type": "display_data"
    },
    {
     "name": "stdout",
     "output_type": "stream",
     "text": [
      "\n",
      "Actionable Insights:\n",
      "1. Total bill is the most significant predictors of tip amount.\n",
      "2. The restaurant can focus on optimizing service for larger group sizes to increase tipping behavior.\n"
     ]
    }
   ],
   "source": [
    "\n",
    "\n",
    "plt.figure(figsize=(10, 6))\n",
    "sns.barplot(x='Importance', y='Feature', data=feature_importances)\n",
    "plt.title('Feature Importances')\n",
    "plt.show()\n",
    "\n",
    "print(\"\\nActionable Insights:\")\n",
    "print(\"1. Total bill is the most significant predictors of tip amount.\")\n",
    "print(\"2. The restaurant can focus on optimizing service for larger group sizes to increase tipping behavior.\")\n"
   ]
  },
  {
   "cell_type": "code",
   "execution_count": null,
   "metadata": {},
   "outputs": [],
   "source": []
  }
 ],
 "metadata": {
  "kernelspec": {
   "display_name": "Python 3",
   "language": "python",
   "name": "python3"
  },
  "language_info": {
   "codemirror_mode": {
    "name": "ipython",
    "version": 3
   },
   "file_extension": ".py",
   "mimetype": "text/x-python",
   "name": "python",
   "nbconvert_exporter": "python",
   "pygments_lexer": "ipython3",
   "version": "3.10.13"
  }
 },
 "nbformat": 4,
 "nbformat_minor": 2
}
